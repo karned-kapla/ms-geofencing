{
 "cells": [
  {
   "metadata": {},
   "cell_type": "markdown",
   "source": "## Geofencing ligne",
   "id": "d5fdf708ad88426a"
  },
  {
   "cell_type": "code",
   "id": "initial_id",
   "metadata": {
    "collapsed": true,
    "ExecuteTime": {
     "end_time": "2025-03-07T14:27:46.086215Z",
     "start_time": "2025-03-07T14:27:01.307120Z"
    }
   },
   "source": [
    "import cv2\n",
    "import numpy as np\n",
    "\n",
    "# Définir la ligne de geofencing\n",
    "LINE_Y = 300  # Position verticale de la ligne\n",
    "LINE_COLOR = (0, 255, 0)\n",
    "LINE_THICKNESS = 2\n",
    "\n",
    "# Capture vidéo (0 pour la webcam locale, ou l'URL de la caméra IP)\n",
    "cap = cv2.VideoCapture(0)\n",
    "\n",
    "# Initialisation du soustracteur d'arrière-plan\n",
    "bg_subtractor = cv2.createBackgroundSubtractorMOG2(detectShadows=True)\n",
    "\n",
    "def detect_crossing(y, h, line_y):\n",
    "    \"\"\"Détecte si le rectangle franchit la ligne virtuelle.\"\"\"\n",
    "    return y <= line_y <= (y + h)\n",
    "\n",
    "while True:\n",
    "    ret, frame = cap.read()\n",
    "    if not ret:\n",
    "        break\n",
    "\n",
    "    # Prétraitement de l'image\n",
    "    gray = cv2.cvtColor(frame, cv2.COLOR_BGR2GRAY)\n",
    "    blurred = cv2.GaussianBlur(gray, (5, 5), 0)\n",
    "\n",
    "    # Appliquer le soustracteur d'arrière-plan\n",
    "    mask = bg_subtractor.apply(blurred)\n",
    "    mask = cv2.threshold(mask, 25, 255, cv2.THRESH_BINARY)[1]\n",
    "\n",
    "    # Trouver les contours des objets détectés\n",
    "    contours, _ = cv2.findContours(mask, cv2.RETR_EXTERNAL, cv2.CHAIN_APPROX_SIMPLE)\n",
    "\n",
    "    # Tracer la ligne de geofencing\n",
    "    cv2.line(frame, (0, LINE_Y), (frame.shape[1], LINE_Y), LINE_COLOR, LINE_THICKNESS)\n",
    "\n",
    "    for contour in contours:\n",
    "        if cv2.contourArea(contour) > 1000:  # Filtrer les petits objets\n",
    "            x, y, w, h = cv2.boundingRect(contour)  # Extraire les coordonnées du rectangle\n",
    "            if detect_crossing(y, h, LINE_Y):\n",
    "                cv2.putText(frame, \"Franchissement detecte!\", (50, 50), cv2.FONT_HERSHEY_SIMPLEX, 1, (0, 0, 255), 2)\n",
    "                cv2.rectangle(frame, (x, y), (x + w, y + h), (0, 0, 255), 2)\n",
    "\n",
    "    # Affichage des images\n",
    "    cv2.imshow(\"Video\", frame)\n",
    "    cv2.imshow(\"Masque\", mask)\n",
    "\n",
    "    # Quitter avec la touche 'q'\n",
    "    if cv2.waitKey(30) & 0xFF == ord('q'):\n",
    "        break\n",
    "\n",
    "cap.release()\n",
    "cv2.destroyAllWindows()"
   ],
   "outputs": [
    {
     "ename": "KeyboardInterrupt",
     "evalue": "",
     "output_type": "error",
     "traceback": [
      "\u001B[0;31m---------------------------------------------------------------------------\u001B[0m",
      "\u001B[0;31mKeyboardInterrupt\u001B[0m                         Traceback (most recent call last)",
      "Cell \u001B[0;32mIn[2], line 50\u001B[0m\n\u001B[1;32m     47\u001B[0m     cv2\u001B[38;5;241m.\u001B[39mimshow(\u001B[38;5;124m\"\u001B[39m\u001B[38;5;124mMasque\u001B[39m\u001B[38;5;124m\"\u001B[39m, mask)\n\u001B[1;32m     49\u001B[0m     \u001B[38;5;66;03m# Quitter avec la touche 'q'\u001B[39;00m\n\u001B[0;32m---> 50\u001B[0m     \u001B[38;5;28;01mif\u001B[39;00m \u001B[43mcv2\u001B[49m\u001B[38;5;241;43m.\u001B[39;49m\u001B[43mwaitKey\u001B[49m\u001B[43m(\u001B[49m\u001B[38;5;241;43m30\u001B[39;49m\u001B[43m)\u001B[49m \u001B[38;5;241m&\u001B[39m \u001B[38;5;241m0xFF\u001B[39m \u001B[38;5;241m==\u001B[39m \u001B[38;5;28mord\u001B[39m(\u001B[38;5;124m'\u001B[39m\u001B[38;5;124mq\u001B[39m\u001B[38;5;124m'\u001B[39m):\n\u001B[1;32m     51\u001B[0m         \u001B[38;5;28;01mbreak\u001B[39;00m\n\u001B[1;32m     53\u001B[0m cap\u001B[38;5;241m.\u001B[39mrelease()\n",
      "\u001B[0;31mKeyboardInterrupt\u001B[0m: "
     ]
    }
   ],
   "execution_count": 2
  },
  {
   "metadata": {},
   "cell_type": "markdown",
   "source": "## Geofencing polygone",
   "id": "80b6c5988252b6eb"
  },
  {
   "metadata": {
    "ExecuteTime": {
     "end_time": "2025-03-07T14:28:20.452638Z",
     "start_time": "2025-03-07T14:27:59.472604Z"
    }
   },
   "cell_type": "code",
   "source": [
    "import cv2\n",
    "import numpy as np\n",
    "\n",
    "# Définir les points du polygone (ajustez selon votre zone d'intérêt)\n",
    "polygon_points = np.array([[100, 200], [400, 200], [450, 300], [150, 350]], np.int32)\n",
    "polygon_points = polygon_points.reshape((-1, 1, 2))\n",
    "\n",
    "# Capture vidéo (0 pour webcam locale ou URL pour caméra IP)\n",
    "cap = cv2.VideoCapture(0)\n",
    "\n",
    "# Initialisation du soustracteur d'arrière-plan\n",
    "bg_subtractor = cv2.createBackgroundSubtractorMOG2(detectShadows=True)\n",
    "\n",
    "def is_inside_polygon(x, y, w, h, polygon):\n",
    "    \"\"\"Vérifie si un rectangle entre dans un polygone.\"\"\"\n",
    "    rect_center = (x + w // 2, y + h // 2)\n",
    "    return cv2.pointPolygonTest(polygon, rect_center, False) >= 0\n",
    "\n",
    "while True:\n",
    "    ret, frame = cap.read()\n",
    "    if not ret:\n",
    "        break\n",
    "\n",
    "    # Prétraitement\n",
    "    gray = cv2.cvtColor(frame, cv2.COLOR_BGR2GRAY)\n",
    "    blurred = cv2.GaussianBlur(gray, (5, 5), 0)\n",
    "\n",
    "    # Appliquer le soustracteur d'arrière-plan\n",
    "    mask = bg_subtractor.apply(blurred)\n",
    "    mask = cv2.threshold(mask, 25, 255, cv2.THRESH_BINARY)[1]\n",
    "\n",
    "    # Trouver les contours des objets détectés\n",
    "    contours, _ = cv2.findContours(mask, cv2.RETR_EXTERNAL, cv2.CHAIN_APPROX_SIMPLE)\n",
    "\n",
    "    # Dessiner le polygone sur le frame\n",
    "    cv2.polylines(frame, [polygon_points], isClosed=True, color=(0, 255, 0), thickness=3)\n",
    "\n",
    "    for contour in contours:\n",
    "        if cv2.contourArea(contour) > 1000:  # Filtrer les petits objets\n",
    "            x, y, w, h = cv2.boundingRect(contour)\n",
    "            if is_inside_polygon(x, y, w, h, polygon_points):\n",
    "                cv2.putText(frame, \"Intrusion detectee!\", (50, 50), cv2.FONT_HERSHEY_SIMPLEX, 1, (0, 0, 255), 2)\n",
    "                cv2.rectangle(frame, (x, y), (x + w, y + h), (0, 0, 255), 2)\n",
    "\n",
    "    # Affichage\n",
    "    cv2.imshow(\"Video\", frame)\n",
    "    cv2.imshow(\"Masque\", mask)\n",
    "\n",
    "    # Quitter avec la touche 'q'\n",
    "    if cv2.waitKey(30) & 0xFF == ord('q'):\n",
    "        break\n",
    "\n",
    "cap.release()\n",
    "cv2.destroyAllWindows()"
   ],
   "id": "e9e800446c654ead",
   "outputs": [
    {
     "ename": "KeyboardInterrupt",
     "evalue": "",
     "output_type": "error",
     "traceback": [
      "\u001B[0;31m---------------------------------------------------------------------------\u001B[0m",
      "\u001B[0;31mKeyboardInterrupt\u001B[0m                         Traceback (most recent call last)",
      "Cell \u001B[0;32mIn[3], line 20\u001B[0m\n\u001B[1;32m     17\u001B[0m     \u001B[38;5;28;01mreturn\u001B[39;00m cv2\u001B[38;5;241m.\u001B[39mpointPolygonTest(polygon, rect_center, \u001B[38;5;28;01mFalse\u001B[39;00m) \u001B[38;5;241m>\u001B[39m\u001B[38;5;241m=\u001B[39m \u001B[38;5;241m0\u001B[39m\n\u001B[1;32m     19\u001B[0m \u001B[38;5;28;01mwhile\u001B[39;00m \u001B[38;5;28;01mTrue\u001B[39;00m:\n\u001B[0;32m---> 20\u001B[0m     ret, frame \u001B[38;5;241m=\u001B[39m \u001B[43mcap\u001B[49m\u001B[38;5;241;43m.\u001B[39;49m\u001B[43mread\u001B[49m\u001B[43m(\u001B[49m\u001B[43m)\u001B[49m\n\u001B[1;32m     21\u001B[0m     \u001B[38;5;28;01mif\u001B[39;00m \u001B[38;5;129;01mnot\u001B[39;00m ret:\n\u001B[1;32m     22\u001B[0m         \u001B[38;5;28;01mbreak\u001B[39;00m\n",
      "\u001B[0;31mKeyboardInterrupt\u001B[0m: "
     ]
    }
   ],
   "execution_count": 3
  },
  {
   "metadata": {},
   "cell_type": "markdown",
   "source": "## limite FPS and size",
   "id": "87c6cf2bcfd2e43d"
  },
  {
   "metadata": {
    "ExecuteTime": {
     "end_time": "2025-03-07T14:29:04.238208Z",
     "start_time": "2025-03-07T14:28:32.534253Z"
    }
   },
   "cell_type": "code",
   "source": [
    "import cv2\n",
    "import numpy as np\n",
    "\n",
    "# Définir les points du polygone (à ajuster)\n",
    "polygon_points = np.array([[50, 100], [200, 100], [450, 300], [150, 350]], np.int32)\n",
    "polygon_points = polygon_points.reshape((-1, 1, 2))\n",
    "\n",
    "# Capture vidéo (0 pour webcam locale ou URL pour caméra IP)\n",
    "cap = cv2.VideoCapture(0)\n",
    "\n",
    "# Réduire la taille de la vidéo\n",
    "FRAME_WIDTH = 640\n",
    "FRAME_HEIGHT = 360\n",
    "\n",
    "# Limiter les FPS (attente entre chaque frame en millisecondes)\n",
    "TARGET_FPS = 10\n",
    "frame_delay = int(1000 / TARGET_FPS)  # Conversion FPS -> millisecondes\n",
    "\n",
    "# Initialisation du soustracteur d'arrière-plan\n",
    "bg_subtractor = cv2.createBackgroundSubtractorMOG2(detectShadows=True)\n",
    "\n",
    "def is_inside_polygon(x, y, w, h, polygon):\n",
    "    \"\"\"Vérifie si un rectangle entre dans un polygone.\"\"\"\n",
    "    rect_center = (x + w // 2, y + h // 2)\n",
    "    return cv2.pointPolygonTest(polygon, rect_center, False) >= 0\n",
    "\n",
    "while True:\n",
    "    ret, frame = cap.read()\n",
    "    if not ret:\n",
    "        break\n",
    "\n",
    "    # Redimensionner le frame\n",
    "    frame = cv2.resize(frame, (FRAME_WIDTH, FRAME_HEIGHT))\n",
    "\n",
    "    # Prétraitement\n",
    "    gray = cv2.cvtColor(frame, cv2.COLOR_BGR2GRAY)\n",
    "    blurred = cv2.GaussianBlur(gray, (5, 5), 0)\n",
    "\n",
    "    # Appliquer le soustracteur d'arrière-plan\n",
    "    mask = bg_subtractor.apply(blurred)\n",
    "    mask = cv2.threshold(mask, 25, 255, cv2.THRESH_BINARY)[1]\n",
    "\n",
    "    # Trouver les contours des objets détectés\n",
    "    contours, _ = cv2.findContours(mask, cv2.RETR_EXTERNAL, cv2.CHAIN_APPROX_SIMPLE)\n",
    "\n",
    "    # Dessiner le polygone sur le frame\n",
    "    cv2.polylines(frame, [polygon_points], isClosed=True, color=(0, 255, 0), thickness=3)\n",
    "\n",
    "    for contour in contours:\n",
    "        if cv2.contourArea(contour) > 1000:  # Filtrer les petits objets\n",
    "            x, y, w, h = cv2.boundingRect(contour)\n",
    "            if is_inside_polygon(x, y, w, h, polygon_points):\n",
    "                cv2.putText(frame, \"Intrusion detectee!\", (50, 50), cv2.FONT_HERSHEY_SIMPLEX, 1, (0, 0, 255), 2)\n",
    "                cv2.rectangle(frame, (x, y), (x + w, y + h), (0, 0, 255), 2)\n",
    "\n",
    "    # Affichage\n",
    "    cv2.imshow(\"Video\", frame)\n",
    "    cv2.imshow(\"Masque\", mask)\n",
    "\n",
    "    # Quitter avec la touche 'q'\n",
    "    if cv2.waitKey(frame_delay) & 0xFF == ord('q'):\n",
    "        break\n",
    "\n",
    "cap.release()\n",
    "cv2.destroyAllWindows()"
   ],
   "id": "233a58803797de",
   "outputs": [
    {
     "ename": "KeyboardInterrupt",
     "evalue": "",
     "output_type": "error",
     "traceback": [
      "\u001B[0;31m---------------------------------------------------------------------------\u001B[0m",
      "\u001B[0;31mKeyboardInterrupt\u001B[0m                         Traceback (most recent call last)",
      "Cell \u001B[0;32mIn[4], line 61\u001B[0m\n\u001B[1;32m     58\u001B[0m     cv2\u001B[38;5;241m.\u001B[39mimshow(\u001B[38;5;124m\"\u001B[39m\u001B[38;5;124mMasque\u001B[39m\u001B[38;5;124m\"\u001B[39m, mask)\n\u001B[1;32m     60\u001B[0m     \u001B[38;5;66;03m# Quitter avec la touche 'q'\u001B[39;00m\n\u001B[0;32m---> 61\u001B[0m     \u001B[38;5;28;01mif\u001B[39;00m \u001B[43mcv2\u001B[49m\u001B[38;5;241;43m.\u001B[39;49m\u001B[43mwaitKey\u001B[49m\u001B[43m(\u001B[49m\u001B[43mframe_delay\u001B[49m\u001B[43m)\u001B[49m \u001B[38;5;241m&\u001B[39m \u001B[38;5;241m0xFF\u001B[39m \u001B[38;5;241m==\u001B[39m \u001B[38;5;28mord\u001B[39m(\u001B[38;5;124m'\u001B[39m\u001B[38;5;124mq\u001B[39m\u001B[38;5;124m'\u001B[39m):\n\u001B[1;32m     62\u001B[0m         \u001B[38;5;28;01mbreak\u001B[39;00m\n\u001B[1;32m     64\u001B[0m cap\u001B[38;5;241m.\u001B[39mrelease()\n",
      "\u001B[0;31mKeyboardInterrupt\u001B[0m: "
     ]
    }
   ],
   "execution_count": 4
  }
 ],
 "metadata": {
  "kernelspec": {
   "display_name": "Python 3",
   "language": "python",
   "name": "python3"
  },
  "language_info": {
   "codemirror_mode": {
    "name": "ipython",
    "version": 2
   },
   "file_extension": ".py",
   "mimetype": "text/x-python",
   "name": "python",
   "nbconvert_exporter": "python",
   "pygments_lexer": "ipython2",
   "version": "2.7.6"
  }
 },
 "nbformat": 4,
 "nbformat_minor": 5
}
